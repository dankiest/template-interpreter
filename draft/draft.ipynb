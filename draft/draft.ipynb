{
 "cells": [
  {
   "cell_type": "code",
   "execution_count": 2,
   "metadata": {},
   "outputs": [],
   "source": [
    "import yaml"
   ]
  },
  {
   "cell_type": "code",
   "execution_count": 6,
   "metadata": {},
   "outputs": [],
   "source": [
    "with open('../examples/getnet.yaml', 'r') as f:\n",
    "    y = yaml.safe_load(f)"
   ]
  },
  {
   "cell_type": "code",
   "execution_count": 15,
   "metadata": {},
   "outputs": [
    {
     "name": "stdout",
     "output_type": "stream",
     "text": [
      "header\n",
      "{'pos': [1, 1], 'value': 0}\n",
      "resumo_venda\n",
      "{'pos': [1, 1], 'value': 1}\n"
     ]
    }
   ],
   "source": [
    "key = y['id']\n",
    "\n",
    "for k in y['dados']:\n",
    "    print(k)\n",
    "    struct = y['dados'][k]\n",
    "    print(struct[key])"
   ]
  }
 ],
 "metadata": {
  "kernelspec": {
   "display_name": "Python 3 (ipykernel)",
   "language": "python",
   "name": "python3"
  },
  "language_info": {
   "codemirror_mode": {
    "name": "ipython",
    "version": 3
   },
   "file_extension": ".py",
   "mimetype": "text/x-python",
   "name": "python",
   "nbconvert_exporter": "python",
   "pygments_lexer": "ipython3",
   "version": "3.10.6"
  },
  "orig_nbformat": 4,
  "vscode": {
   "interpreter": {
    "hash": "d7c60f2bcb86a9edda6aaf9aac163a2efdf8e819601bc89b3171018fd468d3be"
   }
  }
 },
 "nbformat": 4,
 "nbformat_minor": 2
}
